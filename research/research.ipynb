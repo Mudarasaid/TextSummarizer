{
 "cells": [
  {
   "cell_type": "code",
   "execution_count": 1,
   "id": "6458794c",
   "metadata": {},
   "outputs": [],
   "source": [
    "dict_info={\"key1\":\"mudar\", \"last_name\": \"asaid \"}"
   ]
  },
  {
   "cell_type": "code",
   "execution_count": 5,
   "id": "57ac4c51",
   "metadata": {},
   "outputs": [],
   "source": [
    "from box import ConfigBox\n",
    "dict_info=ConfigBox({\"key1\":\"mudar\", \"last_name\": \"asaid \"})"
   ]
  },
  {
   "cell_type": "code",
   "execution_count": 7,
   "id": "3e091b39",
   "metadata": {},
   "outputs": [
    {
     "data": {
      "text/plain": [
       "'mudar'"
      ]
     },
     "execution_count": 7,
     "metadata": {},
     "output_type": "execute_result"
    }
   ],
   "source": [
    "dict_info.key1"
   ]
  },
  {
   "cell_type": "code",
   "execution_count": null,
   "id": "0cb321ae",
   "metadata": {},
   "outputs": [],
   "source": []
  },
  {
   "cell_type": "code",
   "execution_count": null,
   "id": "190890a6",
   "metadata": {},
   "outputs": [],
   "source": []
  },
  {
   "cell_type": "code",
   "execution_count": null,
   "id": "84057f13",
   "metadata": {},
   "outputs": [],
   "source": []
  }
 ],
 "metadata": {
  "kernelspec": {
   "display_name": "Python 3",
   "language": "python",
   "name": "python3"
  },
  "language_info": {
   "codemirror_mode": {
    "name": "ipython",
    "version": 3
   },
   "file_extension": ".py",
   "mimetype": "text/x-python",
   "name": "python",
   "nbconvert_exporter": "python",
   "pygments_lexer": "ipython3",
   "version": "3.10.0"
  }
 },
 "nbformat": 4,
 "nbformat_minor": 5
}
